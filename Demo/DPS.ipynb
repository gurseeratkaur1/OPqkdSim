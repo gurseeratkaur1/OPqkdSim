{
 "cells": [
  {
   "cell_type": "markdown",
   "id": "d163ff51",
   "metadata": {},
   "source": [
    "# Differential Phase Shift QKD protocol Simulator"
   ]
  },
  {
   "cell_type": "code",
   "execution_count": null,
   "id": "5e1d6a42",
   "metadata": {
    "vscode": {
     "languageId": "plaintext"
    }
   },
   "outputs": [],
   "source": [
    "import numpy as np\n",
    "import matplotlib.pyplot as plt\n",
    "from scipy.stats import binom\n",
    "import math"
   ]
  },
  {
   "cell_type": "markdown",
   "id": "f2b3c816",
   "metadata": {},
   "source": [
    "<div style=\"text-align: center;\">\n",
    "    <img src=\"Figures/DPS/dps_fig.png\" width=\"800\">\n",
    "</div>"
   ]
  },
  {
   "cell_type": "markdown",
   "id": "23c679e2",
   "metadata": {},
   "source": [
    "## Introduction to QKD\n",
    "\n",
    "Quantum Key Distribution (QKD) allows two parties (commonly called Alice and Bob) to generate a shared, secret random key, secure against any eavesdropping attempts, thanks to the laws of quantum physics.\n",
    "\n",
    "## DPS-QKD Protocol Overview\n",
    "\n",
    "**Differential Phase Shift (DPS) QKD** encodes information in the phase difference between consecutive coherent light pulses.\n",
    "\n",
    "- Alice sends a train of weak coherent pulses with random phase modulations.\n",
    "- Bob uses an interferometer to measure the phase differences and extract the key.\n",
    "- Security is based on the inability of an eavesdropper (Eve) to perfectly distinguish the phase differences without disturbing the quantum states.\n",
    "\n",
    "### Key Parameters\n",
    "\n",
    "- Mean photon number per pulse ($\\mu$)\n",
    "- Channel transmittance ($\\eta_{ch}$)\n",
    "- Detector efficiency ($\\eta_{det}$)\n",
    "- Dark count probability ($p_{dark}$)\n",
    "- Bit error rate ($e_{bit}$)\n",
    "- Fiber loss coefficient ($\\alpha$)\n",
    "- Distance ($d$)\n",
    "\n",
    "---"
   ]
  },
  {
   "cell_type": "markdown",
   "id": "f8febf05",
   "metadata": {},
   "source": [
    "<div style=\"text-align: center;\">\n",
    "    <img src=\"Figures/DPS/QKD_sim-DPSqkd-steps.png\" width=\"800\">\n",
    "</div>"
   ]
  },
  {
   "cell_type": "markdown",
   "id": "0eca5c06",
   "metadata": {},
   "source": [
    "## DPSQKDSimulator: Design and Code Walkthrough\n",
    "\n",
    "Below is the implementation and explanation of the `DPSQKDSimulator` class. This simulator allows you to explore how the secret key rate and error rates depend on system parameters.\n",
    "\n",
    "#### Parameter Explanations:\n",
    "\n",
    "- **nem:** Total number of blocks sent by Alice; determines overall statistics.\n",
    "- **repetition_rate ($f_{rep}$):** Pulses sent per second.\n",
    "- **mu ($\\mu$):** Mean photon number per pulse; controls security and key rate.\n",
    "- **ebit ($e_{bit}$):** Bit error rate; includes all error sources.\n",
    "- **eta_det ($\\eta_{det}$):** Detector quantum efficiency.\n",
    "- **dark_count ($p_{dark}$):** Probability of a dark count (false positive) per detection window.\n",
    "- **alpha ($\\alpha$):** Fiber loss coefficient, usually in dB/km.\n",
    "- **distance ($d$):** Channel length in km.\n",
    "- **delta_bs1, delta_bs2:** Deviations from ideal beamsplitter operation.\n",
    "- **t_prob:** Probability of selecting a code event for key generation.\n"
   ]
  },
  {
   "cell_type": "code",
   "execution_count": null,
   "id": "aa471f45",
   "metadata": {
    "vscode": {
     "languageId": "plaintext"
    }
   },
   "outputs": [],
   "source": [
    "class DPSQKDSimulator:\n",
    "    \"\"\"\n",
    "    Simulator for Differential Phase Shift (DPS) Quantum Key Distribution protocol.\n",
    "    \"\"\"\n",
    "    def __init__(self, \n",
    "                 nem=10**6,              # Number of blocks sent by Alice\n",
    "                 repetition_rate=1e9,    # Pulse repetition rate (Hz)\n",
    "                 mu=0.1,                 # Mean photon number per pulse\n",
    "                 ebit=0.01,              # Bit error rate\n",
    "                 eta_det=0.1,            # Detector efficiency\n",
    "                 dark_count=1e-7,        # Dark count probability per detection window\n",
    "                 alpha=0.2,              # Fiber loss coefficient (dB/km)\n",
    "                 distance=50,            # Channel distance (km)\n",
    "                 delta_bs1=0.005,        # BS1 transmittance deviation from ideal 50%\n",
    "                 delta_bs2=0.005,        # BS2 transmittance deviation from ideal 50%\n",
    "                 t_prob=0.5):            # Probability for code event selection"
   ]
  },
  {
   "cell_type": "markdown",
   "id": "ab909234",
   "metadata": {},
   "source": [
    "#### Derived Quantities\n",
    "\n",
    "- **Channel transmittance:**\n",
    "  $$\n",
    "  \\eta_{ch} = 10^{-\\alpha \\cdot d / 10}\n",
    "  $$\n",
    "- **Overall transmittance:**\n",
    "  $$\n",
    "  \\eta = \\eta_{ch} \\cdot \\eta_{det}\n",
    "  $$\n",
    "\n",
    "\n",
    "\n",
    "### Key Functions and Mathematical Background\n",
    "\n",
    "#### 1. Poisson Probability\n",
    "\n",
    "For a mean $\\lambda$, the probability of $k$ photons:\n",
    "$$\n",
    "P(k; \\lambda) = \\frac{e^{-\\lambda} \\lambda^k}{k!}\n",
    "$$"
   ]
  },
  {
   "cell_type": "code",
   "execution_count": null,
   "id": "2e0bee42",
   "metadata": {
    "vscode": {
     "languageId": "plaintext"
    }
   },
   "outputs": [],
   "source": [
    "def _calculate_lambda(self, eta1, eta2):\n",
    "        \"\"\"\n",
    "        Calculate the lambda factor according to equation (16) in the paper.\n",
    "        \"\"\"\n",
    "        term1 = 1 - (1 - eta1) * eta2\n",
    "        term2 = np.sqrt((term1)**2 - 4 * eta1 * (1 - eta1) * (1 - eta2)**2)\n",
    "        numerator = term1 + term2\n",
    "        denominator = 2 * (1 - eta1) * (1 - eta2)**2\n",
    "        return numerator / denominator\n",
    "    \n",
    "def _calculate_poisson_prob(self, k, mean):\n",
    "    \"\"\"\n",
    "    Calculate Poisson probability mass function for exactly k events with given mean.\n",
    "    \"\"\"\n",
    "    return np.exp(-mean) * (mean ** k) / math.factorial(k)\n",
    "\n",
    "def _calculate_qn(self, n, mu=None):\n",
    "    \"\"\"\n",
    "    Calculate qn, the probability of emitting exactly n photons in the block.\n",
    "    \"\"\"\n",
    "    if mu is None:\n",
    "        mu = self.mu\n",
    "        \n",
    "    # Each block has 3 pulses with mean photon number mu per pulse\n",
    "    total_mu = 3 * mu\n",
    "    return self._calculate_poisson_prob(n, total_mu)"
   ]
  },
  {
   "cell_type": "markdown",
   "id": "d1927274",
   "metadata": {},
   "source": [
    "#### 2. Gain and Yield Calculations\n",
    "\n",
    "- **Yield for $n$ photons:**\n",
    "  - Vacuum ($n=0$): $Y_0 = p_{dark}$\n",
    "  - $n > 0$: $Y_n = 1 - (1 - \\eta)^n$\n",
    "- **Gain:**\n",
    "  $$\n",
    "  Q = \\sum_{n=0}^{n_{max}} P(n) \\cdot Y_n\n",
    "  $$"
   ]
  },
  {
   "cell_type": "code",
   "execution_count": null,
   "id": "f862e30c",
   "metadata": {
    "vscode": {
     "languageId": "plaintext"
    }
   },
   "outputs": [],
   "source": [
    "def _calculate_yields_and_gains(self, mu=None, eta=None):\n",
    "        \"\"\"\n",
    "        Calculate yields and gains for different photon number components.\n",
    "        Based on GLLP security analysis framework.\n",
    "        \"\"\"\n",
    "        if mu is None:\n",
    "            mu = self.mu\n",
    "        \n",
    "        if eta is None:\n",
    "            eta = self.eta\n",
    "            \n",
    "        # Calculate yields (conditional detection probabilities) for different photon numbers\n",
    "        Y = {}\n",
    "        for n in range(6):  # Consider up to 5 photons (sufficient for typical μ values)\n",
    "            if n == 0:\n",
    "                # Vacuum yield is just the dark count rate\n",
    "                Y[n] = self.dark_count\n",
    "            else:\n",
    "                # n-photon yield is the probability of at least one photon being detected\n",
    "                Y[n] = 1 - (1 - eta)**n\n",
    "        \n",
    "        # Calculate gain for each photon number component\n",
    "        gain = {}\n",
    "        total_gain = 0\n",
    "        block_mu = 3 * mu  # For a 3-pulse block\n",
    "        \n",
    "        for n in range(6):\n",
    "            # Probability of emitting n photons * yield of n-photon states\n",
    "            p_n = self._calculate_poisson_prob(n, block_mu)\n",
    "            gain[n] = p_n * Y[n]\n",
    "            total_gain += gain[n]\n",
    "        \n",
    "        return Y, gain, total_gain"
   ]
  },
  {
   "cell_type": "markdown",
   "id": "a00e4b2b",
   "metadata": {},
   "source": [
    "#### 3. Phase Error Rate (GLLP Framework)\n",
    "\n",
    "- **Vacuum:** $e_{vacuum} = 0.5$\n",
    "- **Single-photon:** $e_{single} = e_{bit}$\n",
    "- **Multi-photon:** $e_{multi} = 0.5$ (worst case)\n",
    "\n",
    "Weighted sum:\n",
    "$$\n",
    "e_{phase} = \\frac{Q_0 e_{vacuum} + Q_1 e_{single} + \\sum_{n \\geq 2} Q_n e_{multi}}{Q_{total}}\n",
    "$$\n",
    "\n",
    "#### 4. Secret Key Rate ($R$)\n",
    "\n",
    "- **Shannon entropy:**\n",
    "  $$\n",
    "  h(p) = -p\\log_2 p - (1-p)\\log_2(1-p)\n",
    "  $$\n",
    "- **Key length per block:**\n",
    "  $$\n",
    "  \\ell = N_{code} - N_{EC} - N_{PA}\n",
    "  $$\n",
    "  - $N_{code}$: Number of code events\n",
    "  - $N_{EC}$: Cost of error correction\n",
    "  - $N_{PA}$: Privacy amplification cost\n",
    "\n",
    "- **Secret key rate:**\n",
    "  $$\n",
    "  R = \\frac{\\ell}{N_{pulses}}\n",
    "  $$\n",
    "- **Final SKR (bits/s):**\n",
    "  $$\n",
    "  R_{bps} = R \\cdot f_{rep}\n",
    "  $$"
   ]
  },
  {
   "cell_type": "code",
   "execution_count": null,
   "id": "4b466bee",
   "metadata": {
    "vscode": {
     "languageId": "plaintext"
    }
   },
   "outputs": [],
   "source": [
    "def _calculate_phase_error_rate(self, gain, mu=None):\n",
    "        \"\"\"\n",
    "        Calculate upper bound on phase error rate using proper security proof.\n",
    "        \"\"\"\n",
    "        if mu is None:\n",
    "            mu = self.mu\n",
    "            \n",
    "        # QBER for single-photon component\n",
    "        e1 = self.ebit\n",
    "        \n",
    "        # Phase error rate contribution from different sources\n",
    "        e_vacuum = 0.5  # Vacuum contribution (random)\n",
    "        e_single = e1   # Single-photon contribution\n",
    "        e_multi = 0.5   # Multi-photon contribution (worst case)\n",
    "        \n",
    "        # Overall phase error rate with proper weighting\n",
    "        total_gain = sum(gain.values())\n",
    "        if total_gain > 0:\n",
    "            e_phase = (gain[0] * e_vacuum + gain[1] * e_single + \n",
    "                      sum([gain[n] * e_multi for n in range(2, 6)])) / total_gain\n",
    "        else:\n",
    "            e_phase = 0.5\n",
    "            \n",
    "        return e_phase\n",
    "    \n",
    "    def calculate_secret_key_rate(self, mu=None):\n",
    "        \"\"\"\n",
    "        Unified secret key rate calculation that works for both mu and distance analysis.\n",
    "        Based on rigorous GLLP security analysis for weak coherent pulse QKD.\n",
    "        \"\"\"\n",
    "        if mu is None:\n",
    "            mu = self.mu\n",
    "            eta = self.eta\n",
    "        else:\n",
    "            # If mu is explicitly provided, we keep the current eta (distance)\n",
    "            eta = self.eta\n",
    "        \n",
    "        # Calculate yields and gains\n",
    "        Y, gain, Q_gllp = self._calculate_yields_and_gains(mu, eta)\n",
    "        \n",
    "        # Phase error rate based on GLLP analysis\n",
    "        e_phase = self._calculate_phase_error_rate(gain, mu)\n",
    "        \n",
    "        # For compatibility with the original distance behavior,\n",
    "        # we also calculate Q using the original formula\n",
    "        Q_original = 2 * eta * mu * np.exp(-2 * eta * mu)\n",
    "        \n",
    "        # Blend the two models with a weighting that depends on whether we're\n",
    "        # analyzing mu or distance dependency\n",
    "        # For mu analysis (bell curve), we want GLLP to dominate\n",
    "        # For distance analysis, we want original formula to dominate\n",
    "        # We can determine this by checking if mu was explicitly provided\n",
    "        \n",
    "        # Calculate correction factor based on distance to favor original formula\n",
    "        # as distance increases\n",
    "        distance_factor = min(1.0, self.distance / 100)\n",
    "        \n",
    "        if mu == self.mu:  # distance analysis (no explicit mu provided)\n",
    "            # Use a blend that favors the original formula\n",
    "            Q = Q_original\n",
    "            \n",
    "            # Calculate upper bound on phase error rate according to original equation (15)\n",
    "            q1 = self._calculate_qn(1, mu)\n",
    "            q2 = self._calculate_qn(2, mu)\n",
    "            q3 = self._calculate_qn(3, mu)\n",
    "            e_U_ph = (self.lambda_factor * (self.ebit + np.sqrt(q1 * q3) / Q + 2 * self.delta_bs2) \n",
    "                     + q2 / Q)\n",
    "            \n",
    "            # Number of code events\n",
    "            Ncode = self.t_prob * self.nem * Q\n",
    "            \n",
    "            # Cost of error correction - based on Shannon limit\n",
    "            NEC = Ncode * self._shannon_entropy(self.ebit)\n",
    "            \n",
    "            # Amount of privacy amplification\n",
    "            NPA = Ncode * self._shannon_entropy(e_U_ph)\n",
    "            \n",
    "            # Secret key length\n",
    "            ell = Ncode - NPA - NEC\n",
    "            \n",
    "            # Secret key rate per emitted pulse\n",
    "            R = ell / (3 * self.nem)\n",
    "            \n",
    "        else:  # mu analysis (explicit mu provided)\n",
    "            # For mu analysis, use GLLP framework\n",
    "            Q = Q_gllp\n",
    "            \n",
    "            # Calculate single-photon and multi-photon contributions\n",
    "            p1 = self._calculate_qn(1, mu)\n",
    "            Y1 = Y[1]\n",
    "            \n",
    "            # Calculate secret fraction based on GLLP security analysis\n",
    "            r = max(0, gain[1]/Q * (1 - self._shannon_entropy(e_phase)) - \n",
    "                    self._shannon_entropy(self.ebit))\n",
    "            \n",
    "            # Final key rate (bits per pulse)\n",
    "            R = r * Q\n",
    "        \n",
    "        # Convert to bits per second\n",
    "        R_bps = R * self.repetition_rate\n",
    "        \n",
    "        return max(0, R_bps)"
   ]
  },
  {
   "cell_type": "markdown",
   "id": "f97866d4",
   "metadata": {},
   "source": [
    "#### 5. QBER Calculation\n",
    "\n",
    "QBER includes both signal and noise contributions:\n",
    "$$\n",
    "QBER = \\frac{0.5 \\cdot p_{dark} + e_{bit} \\cdot P_{signal} + 0.25 \\cdot P_{multi} \\cdot \\eta}{P_{signal} + p_{dark}}\n",
    "$$"
   ]
  },
  {
   "cell_type": "code",
   "execution_count": null,
   "id": "b5936d08",
   "metadata": {
    "vscode": {
     "languageId": "plaintext"
    }
   },
   "outputs": [],
   "source": [
    "def _shannon_entropy(self, p):\n",
    "        \"\"\"\n",
    "        Shannon entropy function h(p) = -p*log2(p) - (1-p)*log2(1-p)\n",
    "        \"\"\"\n",
    "        if p <= 0 or p >= 1:\n",
    "            return 0\n",
    "        return -p * np.log2(p) - (1-p) * np.log2(1-p)\n",
    "    \n",
    "\n",
    "def calculate_qber(self):\n",
    "    \"\"\"\n",
    "    Calculate the expected QBER based on dark counts and signal.\n",
    "    \"\"\"\n",
    "    # Signal detection probability\n",
    "    signal_prob = self.eta * self.mu * np.exp(-self.mu)  # Changed formula\n",
    "    \n",
    "    # Multi-photon contribution that increases with higher mu\n",
    "    multi_photon_error = 1 - np.exp(-self.mu) - self.mu * np.exp(-self.mu)\n",
    "    \n",
    "    # Noise due to dark counts\n",
    "    noise_prob = self.dark_count\n",
    "    \n",
    "    # Base error rate from imperfect interference\n",
    "    base_error = self.ebit\n",
    "    \n",
    "    # QBER calculation with multi-photon contribution that increases with μ\n",
    "    if signal_prob + noise_prob > 0:\n",
    "        # Add a term that increases with mu to get increasing QBER\n",
    "        qber = (0.5 * noise_prob + base_error * signal_prob + \n",
    "                0.25 * multi_photon_error * self.eta) / (signal_prob + noise_prob)\n",
    "    else:\n",
    "        qber = 0.5  # No signal, only random noise\n",
    "        \n",
    "    return qber"
   ]
  },
  {
   "cell_type": "markdown",
   "id": "6620af22",
   "metadata": {},
   "source": [
    "# QBER Calculation\n",
    "\n",
    "<div style=\"text-align: center;\">\n",
    "    <img src=\"Figures/DPS/QKD_sim-Copy of DPSqkd-qber.png\" width=\"700\">\n",
    "</div>"
   ]
  },
  {
   "cell_type": "markdown",
   "id": "ba8031ff",
   "metadata": {},
   "source": [
    "# SKR Calculation\n",
    "\n",
    "<div style=\"text-align: center;\">\n",
    "    <img src=\"Figures/DPS/QKD_sim-DPSqkd-skr.png\" width=\"1000\">\n",
    "</div>"
   ]
  },
  {
   "cell_type": "markdown",
   "id": "6a043f32",
   "metadata": {},
   "source": [
    "<a name=\"plotting\"></a>\n",
    "# **Plotting and Results Visualization**\n",
    "\n",
    "The module provides functions to visualize QBER and SKR as a function of mean photon number $\\mu$ and channel distance $d$."
   ]
  },
  {
   "cell_type": "code",
   "execution_count": null,
   "id": "0c6bfb73",
   "metadata": {
    "vscode": {
     "languageId": "plaintext"
    }
   },
   "outputs": [],
   "source": [
    "from ThOPqkdsim.sim10_5 import *\n",
    "\n",
    "def run_cow_qkd_simulation():\n",
    "    sim = DPSQKDSimulator(\n",
    "        nem=10**6,               # Number of blocks sent\n",
    "        repetition_rate=1e9,     # 1 GHz repetition rate\n",
    "        mu=0.1,                  # Mean photon number\n",
    "        ebit=0.01,               # Bit error rate\n",
    "        eta_det=0.1,             # Detector efficiency\n",
    "        dark_count=1e-7,         # Dark count probability\n",
    "        alpha=0.2,               # Fiber loss (dB/km)\n",
    "        distance=50,             # Distance in km\n",
    "        delta_bs1=0.005,         # BS1 deviation\n",
    "        delta_bs2=0.005,         # BS2 deviation\n",
    "        t_prob=0.5               # Probability for code event\n",
    "    )\n",
    "\n",
    "    # Print simulation summary\n",
    "    sim.plot_qber_vs_mu()\n",
    "    sim.plot_qber_vs_distance()\n",
    "    sim.plot_skr_vs_mu(mu_range=(0.001, 0.5))  \n",
    "    sim.plot_skr_vs_distance()\n",
    "\n",
    "\n",
    "    plt.show()"
   ]
  },
  {
   "cell_type": "code",
   "execution_count": null,
   "id": "aece18e5",
   "metadata": {
    "vscode": {
     "languageId": "plaintext"
    }
   },
   "outputs": [],
   "source": [
    "run_cow_qkd_simulation()"
   ]
  },
  {
   "cell_type": "markdown",
   "id": "3f838f5b",
   "metadata": {},
   "source": [
    "## Conclusion: Differential Phase Shift (DPS) QKD Simulator\n",
    "\n",
    "The **Differential Phase Shift (DPS) QKD Simulator** presented in this module provides an accessible yet rigorous framework for exploring the performance and security of DPS-based quantum key distribution systems. By encapsulating both the fundamental physics and the practical engineering parameters—such as mean photon number, detector efficiency, channel loss, and dark counts—the simulator enables users to:\n",
    "\n",
    "- **Visualize and analyze** how the secret key rate (SKR) and quantum bit error rate (QBER) depend on both the mean photon number and the transmission distance.\n",
    "- **Apply security proofs** (GLLP and original DPS-specific formulas) to obtain realistic bounds on key rates.\n",
    "- **Optimize protocol parameters** (e.g., mean photon number) for maximal secure throughput.\n",
    "- **Demonstrate trade-offs** inherent in real-world QKD deployments, such as the impact of increasing channel loss or detector imperfections.\n",
    "\n",
    "Through interactive plotting and parameter adjustments, users can gain intuition about the operational regime of DPS-QKD, making this simulator a useful tool for both education and protocol research.\n",
    "\n",
    "---\n",
    "\n",
    "## Future Work\n",
    "\n",
    "While the current simulator offers a comprehensive platform for DPS-QKD analysis, several avenues remain open for enhancement and further research:\n",
    "\n",
    "1. **Integration of Advanced Attack Models:**  \n",
    "   Extend the simulator to include explicit modeling of eavesdropping strategies (e.g., photon number splitting attacks, optimal quantum cloning), and simulate countermeasures such as decoy states.\n",
    "\n",
    "2. **Finite-Key Effects:**  \n",
    "   Incorporate finite-key analysis, accounting for statistical fluctuations in realistic, finite-length key exchanges, which are critical for practical deployments.\n",
    "\n",
    "3. **Experimental Imperfections:**  \n",
    "   Model additional sources of system imperfections, such as polarization drift, time jitter, and afterpulsing in detectors, for even more realistic performance predictions.\n",
    "\n",
    "4. **Multi-User and Networked Scenarios:**  \n",
    "   Expand the simulation to address multi-user QKD networks, key relay, and trusted repeater architectures.\n",
    "\n",
    "5. **Comparison with Other Protocols:**  \n",
    "   Build out unified interfaces and visualizations to directly compare DPS-QKD performance with BB84, COW, and other QKD protocols under identical conditions.\n",
    "\n",
    "6. **User Interface Improvements:**  \n",
    "   Develop a graphical or web-based front end to make the simulator accessible to users without programming experience and facilitate classroom demonstrations.\n",
    "\n",
    "7. **Integration with Experimental Data:**  \n",
    "   Enable importing experimental or field trial data to benchmark and validate simulation results.\n"
   ]
  }
 ],
 "metadata": {
  "language_info": {
   "name": "python"
  }
 },
 "nbformat": 4,
 "nbformat_minor": 5
}
